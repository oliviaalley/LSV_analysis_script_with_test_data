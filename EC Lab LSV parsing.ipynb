{
 "cells": [
  {
   "cell_type": "markdown",
   "id": "62306f11",
   "metadata": {},
   "source": [
    "## Import LSV from .mpr and calculate several J/V characteristics\n",
    "Import the .mpr files directly. It will import all columns.\n",
    "\n",
    "Generate a dataframe containing 2-electrode saturation photocurrent, zero bias photocurrent, and potential for 5 mA/cm2 current density for each file."
   ]
  },
  {
   "cell_type": "code",
   "execution_count": null,
   "id": "33e23967",
   "metadata": {},
   "outputs": [],
   "source": [
    "import eclabfiles as ecf\n",
    "import pandas as pd\n",
    "import os\n",
    "import os.path\n",
    "import plotly.express as px"
   ]
  },
  {
   "cell_type": "code",
   "execution_count": null,
   "id": "a13454d3",
   "metadata": {},
   "outputs": [],
   "source": [
    "# Need to collect all files and iterate through them, making a list of their names for later reference\n",
    "\n",
    "# change directory_in_str to match where the .mpr files are\n",
    "directory_in_str = '.'\n",
    "filename_list = []\n",
    "prefix_list = []\n",
    "\n",
    "directory = os.fsencode(directory_in_str)\n",
    "\n",
    "# generate list of full names and of prefix, i.e. electrode names, for example, WB832-5.\n",
    "for file in os.listdir(directory):\n",
    "     filename = os.fsdecode(file)\n",
    "     if filename.endswith(\".mpr\"):\n",
    "        filename_list.append(filename)\n",
    "        #print(format(filename))\n",
    "        name,ext = os.path.splitext(filename)\n",
    "        #print(name)\n",
    "        # add the filename to a list\n",
    "        prefix_list.append(name[:7])\n",
    "        #print(name[:7])\n",
    "        continue\n",
    "     else:\n",
    "         continue\n",
    "            \n",
    "print(filename_list)\n",
    "print(prefix_list)"
   ]
  },
  {
   "cell_type": "code",
   "execution_count": null,
   "id": "e1596ea3",
   "metadata": {},
   "outputs": [],
   "source": [
    "# initialize a data frame to put the results in and test concat\n",
    "data = [['',0, 0, 0]]\n",
    "summary_df = pd.DataFrame(columns=['Electrode','Jsat (mA/cm2)','J (0 bias)', 'V (5mA/cm2)'])\n",
    "#summary_df = pd.concat([pd.DataFrame([['', 0, 0, 0]], columns = summary_df.columns), summary_df], ignore_index = True)\n",
    "#print('summary df: \\n', summary_df)"
   ]
  },
  {
   "cell_type": "code",
   "execution_count": null,
   "id": "bd4e2560",
   "metadata": {},
   "outputs": [],
   "source": [
    "# df2 will hold each file's results prior to concatenating it with the summary df\n",
    "df2 = pd.DataFrame([['W', 11, 12, 13]], columns = summary_df.columns)\n",
    "df2['Electrode'] = 'WW'\n",
    "print(df2)\n",
    "pd.concat([summary_df, df2])"
   ]
  },
  {
   "cell_type": "code",
   "execution_count": null,
   "id": "b5ecf112",
   "metadata": {},
   "outputs": [],
   "source": [
    "# organize the surface area in an excel file in the same folder, titled 'SA.xlsx'\n",
    "# row 1: headings\n",
    "# column 1: electrode name. column 2: surface area in cm2.\n",
    "\n",
    "df_SA = pd.read_excel('SA.xlsx')\n",
    "print(df_SA)"
   ]
  },
  {
   "cell_type": "code",
   "execution_count": null,
   "id": "880f86dd",
   "metadata": {},
   "outputs": [],
   "source": [
    "# define the functions to use on each file\n",
    "# first, one to edit the column names for consistency\n",
    "def column_edit(df):\n",
    "    # drop the columns you don't want\n",
    "    df.drop(['time', '(Q-Qo)', 'I Range', 'mode', 'ox/red', 'error', 'control changes', 'uts'], axis=1, inplace=True)\n",
    "    # rename the columns you do want\n",
    "    df.rename(columns={'control_V': 'Control (V)', 'Ewe': 'Ewe (V vs. CE)', '<I>': 'I (mA)'}, inplace=True)\n",
    "    #print(df.head())"
   ]
  },
  {
   "cell_type": "code",
   "execution_count": null,
   "id": "9bdaab3b",
   "metadata": {},
   "outputs": [],
   "source": [
    "# second, a function to determine the surface area and calculate the current density\n",
    "def J_calc(df, mpr_name):\n",
    "    #print(mpr_name)\n",
    "    #print(df_SA)\n",
    "    # Now, search df_SA for mpr_name, and return the surface area in that same row.\n",
    "    name_index = df_SA.index[df_SA['Electrode'] == mpr_name]\n",
    "    #print('the row is: \\n', df_SA.iloc[name_index])\n",
    "    #print('printing the value in the row with the right name: ', df_SA.iloc[name_index]['surface area (cm2)'].iloc[0])\n",
    "    elec_SA = df_SA.iloc[name_index]['surface area (cm2)']\n",
    "    #print('the surface area is: ', elec_SA.iloc[0])\n",
    "    current_density = df['I (mA)'].div(elec_SA.iloc[0])\n",
    "    df['J (mA/cm2)'] = current_density\n",
    "    #print('here is the dataframe with current density calculated: \\n', df.head())"
   ]
  },
  {
   "cell_type": "code",
   "execution_count": null,
   "id": "fc6e6f19",
   "metadata": {},
   "outputs": [],
   "source": [
    "# Third, calculate the saturation current density and return it to the calling function\n",
    "def Jsat_calc(df):\n",
    "    mindex = df.index[df['Ewe (V vs. CE)'] == df['Ewe (V vs. CE)'].min()]\n",
    "    sat_photocurrent = df.iloc[mindex]['J (mA/cm2)']\n",
    "    #print('The saturation photocurrent (mA/cm2) at -1 V vs. CE is: ', sat_photocurrent.iloc[0])\n",
    "    return sat_photocurrent.iloc[0]"
   ]
  },
  {
   "cell_type": "code",
   "execution_count": null,
   "id": "f7c4f3d1",
   "metadata": {},
   "outputs": [],
   "source": [
    "# Fourth, calculate the photocurrent at zero bias for each LSV\n",
    "# Bias is never exactly zero: goes from -4.9314409E-004 V to 4.9910863E-004 V.\n",
    "# Can average photocurrent at these two points.\n",
    "# find index by looking for voltages greater than -5E-4 and less than -4E-4\n",
    "#print(df[df['Control (V)'] > -5E-4 & df['Control (V)'] < -4E-4])\n",
    "\n",
    "def zero_bias(df):\n",
    "    partial_df = df[df['Control (V)']>-5E-4]\n",
    "    full_df = partial_df[partial_df['Control (V)'] < -4E-4]\n",
    "    zerodex = full_df.index\n",
    "    zero_bias_index = zerodex[0]\n",
    "    #print(zero_bias_index)\n",
    "    #print(full_df)\n",
    "    # Now just average the current density at the zero bias index and the \n",
    "    Jsc = (df.iloc[zero_bias_index]['J (mA/cm2)'] + df.iloc[zero_bias_index + 1]['J (mA/cm2)'])/2\n",
    "    #print('The short circuit current density (mA/cm2) is: ', Jsc)\n",
    "    return Jsc"
   ]
  },
  {
   "cell_type": "code",
   "execution_count": null,
   "id": "9fa135da",
   "metadata": {},
   "outputs": [],
   "source": [
    "# Fifth, calculate the lowest potential generating 5 mA/cm2 photocurrent.\n",
    "#First, filter the ones that are at least 5 mA, then find the most positive bias which is applied within that set.\n",
    "def five_mA_pot(df):\n",
    "    first_df = df[df['J (mA/cm2)']<-5]\n",
    "    #print(first_df)\n",
    "    second_df = first_df[first_df['Control (V)'] == first_df['Control (V)'].max()]\n",
    "    #print(second_df)\n",
    "    # The type of the single row df second_df is a Pandas series:\n",
    "    #print(type(second_df['Control (V)']))\n",
    "    # provide the value of the series in the Control (V) column.\n",
    "    five_V = second_df['Control (V)'].iloc[0]\n",
    "    #print('The maximum potential (in V vs. CE) giving at least 5 mA/cm2 is: ' , five_V)\n",
    "    return five_V"
   ]
  },
  {
   "cell_type": "code",
   "execution_count": null,
   "id": "69c2cbfe",
   "metadata": {},
   "outputs": [],
   "source": [
    "# read each mpr file into a data frame\n",
    "# edit columns and headings\n",
    "# add current density column\n",
    "# calculate saturation photocurrent and add to summary_dataframe\n",
    "\n",
    "i = 0\n",
    "for i in range(len(filename_list)):\n",
    "   # print(filename_list[i])\n",
    "    df2 = pd.DataFrame([['', 0, 0, 0]], columns = ['Electrode', 'Jsat (mA/cm2)', 'J (0 bias)', 'V (5mA/cm2)'])\n",
    "    #print('prefix', prefix_list[i])\n",
    "    df = ecf.to_df(filename_list[i])     \n",
    "    column_edit(df)                      \n",
    "    #print('file prefix is', prefix_list[i])\n",
    "    df2['Electrode'] = prefix_list[i]\n",
    "    print(prefix_list[i])\n",
    "    J_calc(df, prefix_list[i])           \n",
    "    Jsat_val = Jsat_calc(df)              \n",
    "    df2['Jsat (mA/cm2)'] = Jsat_val\n",
    "    zero_bias_val = zero_bias(df)                        \n",
    "    df2['J (0 bias)'] = zero_bias_val\n",
    "    five_mA_val = five_mA_pot(df) \n",
    "    df2['V (5mA/cm2)'] = five_mA_val\n",
    "    print('df2\\n', df2)\n",
    "    summary_df = pd.concat([summary_df, df2])\n",
    "print('summary_df\\n', summary_df)"
   ]
  },
  {
   "cell_type": "code",
   "execution_count": null,
   "id": "5400939e",
   "metadata": {},
   "outputs": [],
   "source": [
    "# example from plotly\n",
    "#ex_df = px.data.tips()\n",
    "#fig = px.histogram(ex_df, x=\"total_bill\", nbins=10)\n",
    "#fig.show()\n",
    "#print(ex_df)\n",
    "\n",
    "# plot each variable\n",
    "cols_y = list(summary_df.columns)[1:]\n",
    "print(cols_y[1])\n",
    "for y in cols_y:\n",
    "    fig_ = px.histogram(summary_df[y], x = y, nbins = 3)\n",
    "    fig_.show()\n",
    "#fig_ = px.histogram(summary_df, x = 'Jsat (mA/cm2)', nbins = 5)\n",
    "#fig_.show()\n",
    "# plot just some variables\n",
    "#cols_y = (df_all['Area_H2'], df_all['Area_O2'], df_all['I/mA']) #df_all['Area_O2XO'], df_all['Area_H2XO'], )\n",
    "#for y in cols_y:\n",
    "#    fig_ = px.scatter(df_all, x='timestamp', y=y)\n",
    "#    fig_.show()\n",
    "    \n",
    "#print(\"Area_H2 and Area_O2\")\n",
    "#fig_ = px.scatter(summary_df, x='timestamp', y=['Area_O2', 'H2_ppm', 'Ewe/V'], log_y=True)\n",
    "#fig_ = px.scatter(df_all, x='timestamp', y='Area_H2')\n",
    "#fig_.show()"
   ]
  },
  {
   "cell_type": "code",
   "execution_count": null,
   "id": "520b535d",
   "metadata": {},
   "outputs": [],
   "source": []
  }
 ],
 "metadata": {
  "kernelspec": {
   "display_name": "Python 3 (ipykernel)",
   "language": "python",
   "name": "python3"
  },
  "language_info": {
   "codemirror_mode": {
    "name": "ipython",
    "version": 3
   },
   "file_extension": ".py",
   "mimetype": "text/x-python",
   "name": "python",
   "nbconvert_exporter": "python",
   "pygments_lexer": "ipython3",
   "version": "3.10.12"
  }
 },
 "nbformat": 4,
 "nbformat_minor": 5
}
